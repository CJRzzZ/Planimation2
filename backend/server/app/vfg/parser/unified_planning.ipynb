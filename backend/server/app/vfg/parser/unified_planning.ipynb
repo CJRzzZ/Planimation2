{
 "cells": [
  {
   "cell_type": "code",
   "execution_count": 1,
   "metadata": {},
   "outputs": [],
   "source": [
    "import re\n",
    "import sys\n",
    "import os\n",
    "import unified_planning as unip"
   ]
  },
  {
   "cell_type": "code",
   "execution_count": null,
   "metadata": {},
   "outputs": [],
   "source": [
    "with unip.shortcuts.SequentialSimulator(problem) as simulator:\n",
    "    state = simulator.get_initial_state()\n",
    "    print(f\"Initial battery = {state.get_value(battery)}\")\n",
    "    for ai in plan.actions:\n",
    "        state = simulator.apply(state, ai)\n",
    "        print(f\"Applied action: {ai}. \", end=\"\")\n",
    "        print(f\"Remaining battery: {state.get_value(battery)}\")\n",
    "    if simulator.is_goal(state):\n",
    "        print(\"Goal reached!\")"
   ]
  }
 ],
 "metadata": {
  "kernelspec": {
   "display_name": "base",
   "language": "python",
   "name": "python3"
  },
  "language_info": {
   "codemirror_mode": {
    "name": "ipython",
    "version": 3
   },
   "file_extension": ".py",
   "mimetype": "text/x-python",
   "name": "python",
   "nbconvert_exporter": "python",
   "pygments_lexer": "ipython3",
   "version": "3.12.1"
  }
 },
 "nbformat": 4,
 "nbformat_minor": 2
}
